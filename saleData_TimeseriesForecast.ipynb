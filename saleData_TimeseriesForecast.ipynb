{
 "cells": [
  {
   "cell_type": "markdown",
   "id": "6a1cf49d",
   "metadata": {},
   "source": [
    "### Objective\n",
    "\n",
    "- To read in the data from multi-table excel worksheet\n",
    "- Convert the tables to multiple pandas dataframes\n",
    "- Convert the pandas Dataframe to Pyspark Dataframes\n",
    "- Create pipeline in Pyspark for Regression Analysis\n",
    "- Write out the pyspark dataframes to database "
   ]
  },
  {
   "cell_type": "code",
   "execution_count": 1,
   "id": "f89d84fc",
   "metadata": {},
   "outputs": [],
   "source": [
    "#Starting with import of pyspark and related modules\n",
    "\n",
    "import pyspark\n",
    "from pyspark.sql import SparkSession\n",
    "from pyspark.sql.functions import *\n",
    "from pyspark.sql.types import *\n",
    "import warnings\n",
    "warnings.filterwarnings(\"ignore\")\n",
    "\n",
    "from pyspark.ml import *\n",
    "\n",
    "#lets get some excel files into the system\n",
    "import pandas as pd\n",
    "import openpyxl"
   ]
  },
  {
   "cell_type": "code",
   "execution_count": 2,
   "id": "a5cf6b12",
   "metadata": {},
   "outputs": [
    {
     "name": "stdout",
     "output_type": "stream",
     "text": [
      "22/11/30 08:17:47 WARN Utils: Your hostname, codeStation resolves to a loopback address: 127.0.1.1; using 172.17.0.1 instead (on interface docker0)\n",
      "22/11/30 08:17:47 WARN Utils: Set SPARK_LOCAL_IP if you need to bind to another address\n",
      "22/11/30 08:17:49 WARN NativeCodeLoader: Unable to load native-hadoop library for your platform... using builtin-java classes where applicable\n"
     ]
    },
    {
     "name": "stderr",
     "output_type": "stream",
     "text": [
      "Setting default log level to \"WARN\".\n",
      "To adjust logging level use sc.setLogLevel(newLevel). For SparkR, use setLogLevel(newLevel).\n"
     ]
    }
   ],
   "source": [
    "#Initiating the spark session with postgres driver    \n",
    "sparkSQL = SparkSession.builder.appName('Spark SQL') \\\n",
    "        .config('spark.jars',\"/usr/share/java/postgresql-42.2.26.jar\") \\\n",
    "        .getOrCreate()"
   ]
  },
  {
   "cell_type": "code",
   "execution_count": 2,
   "id": "dfa5be66",
   "metadata": {},
   "outputs": [],
   "source": [
    "mllibPath = \"mllib/\"\n",
    "externalData = \"externalData/\"\n",
    "ytDE = \"/home/solverbot/Desktop/ytDE/csvfiles\""
   ]
  },
  {
   "cell_type": "code",
   "execution_count": 4,
   "id": "6244fcb1",
   "metadata": {},
   "outputs": [],
   "source": [
    "sparkReader = sparkSQL.read"
   ]
  },
  {
   "cell_type": "code",
   "execution_count": 5,
   "id": "e7087ae5",
   "metadata": {},
   "outputs": [],
   "source": [
    "sparkContext = sparkSQL.sparkContext"
   ]
  },
  {
   "cell_type": "code",
   "execution_count": 3,
   "id": "badc6c87",
   "metadata": {},
   "outputs": [],
   "source": [
    "#I am trying to import a multi-worksheet XL, \n",
    "#the \"Datasource\" sheet is required sheet in the xl\n",
    "\n",
    "datasource = pd.read_excel(\"sales Target Dashboard.xlsx\",sheet_name=\"DataSource\",\n",
    "                          parse_dates=True)"
   ]
  },
  {
   "cell_type": "code",
   "execution_count": 4,
   "id": "b217f91e",
   "metadata": {},
   "outputs": [
    {
     "data": {
      "text/plain": [
       "Index(['S/N', 'Date', 'Branch', 'Pizza Type', 'Quantity', 'Time', 'Time Range',\n",
       "       'Price', 'Unnamed: 8', 'Unnamed: 9', 'Unnamed: 10', 'Unnamed: 11',\n",
       "       'Unnamed: 12', 'Daily Target', 'Unnamed: 14', 'Unnamed: 15',\n",
       "       'Unnamed: 16', 'Unnamed: 17', 'Sales Target', 'Unnamed: 19',\n",
       "       'Unnamed: 20', 'Unnamed: 21', 'Unnamed: 22', 'Branch.1', 'Unnamed: 24',\n",
       "       'Unnamed: 25'],\n",
       "      dtype='object')"
      ]
     },
     "execution_count": 4,
     "metadata": {},
     "output_type": "execute_result"
    }
   ],
   "source": [
    "datasource.columns"
   ]
  },
  {
   "cell_type": "code",
   "execution_count": 5,
   "id": "4ae6eb72",
   "metadata": {},
   "outputs": [
    {
     "data": {
      "text/html": [
       "<div>\n",
       "<style scoped>\n",
       "    .dataframe tbody tr th:only-of-type {\n",
       "        vertical-align: middle;\n",
       "    }\n",
       "\n",
       "    .dataframe tbody tr th {\n",
       "        vertical-align: top;\n",
       "    }\n",
       "\n",
       "    .dataframe thead th {\n",
       "        text-align: right;\n",
       "    }\n",
       "</style>\n",
       "<table border=\"1\" class=\"dataframe\">\n",
       "  <thead>\n",
       "    <tr style=\"text-align: right;\">\n",
       "      <th></th>\n",
       "      <th>S/N</th>\n",
       "      <th>Date</th>\n",
       "      <th>Branch</th>\n",
       "      <th>Pizza Type</th>\n",
       "      <th>Quantity</th>\n",
       "      <th>Time</th>\n",
       "      <th>Time Range</th>\n",
       "      <th>Price</th>\n",
       "      <th>Unnamed: 8</th>\n",
       "      <th>Unnamed: 9</th>\n",
       "      <th>...</th>\n",
       "      <th>Unnamed: 16</th>\n",
       "      <th>Unnamed: 17</th>\n",
       "      <th>Sales Target</th>\n",
       "      <th>Unnamed: 19</th>\n",
       "      <th>Unnamed: 20</th>\n",
       "      <th>Unnamed: 21</th>\n",
       "      <th>Unnamed: 22</th>\n",
       "      <th>Branch.1</th>\n",
       "      <th>Unnamed: 24</th>\n",
       "      <th>Unnamed: 25</th>\n",
       "    </tr>\n",
       "  </thead>\n",
       "  <tbody>\n",
       "    <tr>\n",
       "      <th>0</th>\n",
       "      <td>1</td>\n",
       "      <td>42349</td>\n",
       "      <td>Abuja</td>\n",
       "      <td>Meatzaa</td>\n",
       "      <td>5</td>\n",
       "      <td>0.333345</td>\n",
       "      <td>Before 9:00am</td>\n",
       "      <td>8</td>\n",
       "      <td>NaN</td>\n",
       "      <td>NaN</td>\n",
       "      <td>...</td>\n",
       "      <td>NaN</td>\n",
       "      <td>NaN</td>\n",
       "      <td>Pizza</td>\n",
       "      <td>Sales Target</td>\n",
       "      <td>Revenue</td>\n",
       "      <td>NaN</td>\n",
       "      <td>NaN</td>\n",
       "      <td>Branch</td>\n",
       "      <td>Manager</td>\n",
       "      <td>Location</td>\n",
       "    </tr>\n",
       "    <tr>\n",
       "      <th>1</th>\n",
       "      <td>2</td>\n",
       "      <td>42352</td>\n",
       "      <td>Ibadan</td>\n",
       "      <td>Extravaganza</td>\n",
       "      <td>4</td>\n",
       "      <td>0.333356</td>\n",
       "      <td>Before 9:00am</td>\n",
       "      <td>8</td>\n",
       "      <td>NaN</td>\n",
       "      <td>NaN</td>\n",
       "      <td>...</td>\n",
       "      <td>NaN</td>\n",
       "      <td>NaN</td>\n",
       "      <td>BBQ Chicken</td>\n",
       "      <td>17280</td>\n",
       "      <td>NaN</td>\n",
       "      <td>NaN</td>\n",
       "      <td>NaN</td>\n",
       "      <td>Abuja</td>\n",
       "      <td>Christy  Olson</td>\n",
       "      <td>Nigeria</td>\n",
       "    </tr>\n",
       "    <tr>\n",
       "      <th>2</th>\n",
       "      <td>3</td>\n",
       "      <td>42342</td>\n",
       "      <td>Ikoyi</td>\n",
       "      <td>BBQ Chicken</td>\n",
       "      <td>5</td>\n",
       "      <td>0.333380</td>\n",
       "      <td>Before 9:00am</td>\n",
       "      <td>16</td>\n",
       "      <td>NaN</td>\n",
       "      <td>NaN</td>\n",
       "      <td>...</td>\n",
       "      <td>NaN</td>\n",
       "      <td>NaN</td>\n",
       "      <td>BBQ Philly Steak</td>\n",
       "      <td>15232</td>\n",
       "      <td>NaN</td>\n",
       "      <td>NaN</td>\n",
       "      <td>NaN</td>\n",
       "      <td>Ibadan</td>\n",
       "      <td>Dan  Peterson</td>\n",
       "      <td>Nigeria</td>\n",
       "    </tr>\n",
       "    <tr>\n",
       "      <th>3</th>\n",
       "      <td>4</td>\n",
       "      <td>42352</td>\n",
       "      <td>Ibadan</td>\n",
       "      <td>Extravaganza</td>\n",
       "      <td>1</td>\n",
       "      <td>0.333414</td>\n",
       "      <td>Before 9:00am</td>\n",
       "      <td>8</td>\n",
       "      <td>NaN</td>\n",
       "      <td>NaN</td>\n",
       "      <td>...</td>\n",
       "      <td>NaN</td>\n",
       "      <td>NaN</td>\n",
       "      <td>Beef Suya</td>\n",
       "      <td>11772</td>\n",
       "      <td>NaN</td>\n",
       "      <td>NaN</td>\n",
       "      <td>NaN</td>\n",
       "      <td>Ikoyi</td>\n",
       "      <td>Mable  Lindsey</td>\n",
       "      <td>Nigeria</td>\n",
       "    </tr>\n",
       "    <tr>\n",
       "      <th>4</th>\n",
       "      <td>5</td>\n",
       "      <td>42345</td>\n",
       "      <td>Lekki</td>\n",
       "      <td>Meatzaa</td>\n",
       "      <td>4</td>\n",
       "      <td>0.333426</td>\n",
       "      <td>Before 9:00am</td>\n",
       "      <td>8</td>\n",
       "      <td>NaN</td>\n",
       "      <td>NaN</td>\n",
       "      <td>...</td>\n",
       "      <td>NaN</td>\n",
       "      <td>NaN</td>\n",
       "      <td>Chicken Bali</td>\n",
       "      <td>6400.8</td>\n",
       "      <td>NaN</td>\n",
       "      <td>NaN</td>\n",
       "      <td>NaN</td>\n",
       "      <td>Lekki</td>\n",
       "      <td>Kyle  Carr</td>\n",
       "      <td>Nigeria</td>\n",
       "    </tr>\n",
       "  </tbody>\n",
       "</table>\n",
       "<p>5 rows × 26 columns</p>\n",
       "</div>"
      ],
      "text/plain": [
       "   S/N   Date  Branch    Pizza Type  Quantity      Time     Time Range  Price  \\\n",
       "0    1  42349   Abuja       Meatzaa         5  0.333345  Before 9:00am      8   \n",
       "1    2  42352  Ibadan  Extravaganza         4  0.333356  Before 9:00am      8   \n",
       "2    3  42342   Ikoyi   BBQ Chicken         5  0.333380  Before 9:00am     16   \n",
       "3    4  42352  Ibadan  Extravaganza         1  0.333414  Before 9:00am      8   \n",
       "4    5  42345   Lekki       Meatzaa         4  0.333426  Before 9:00am      8   \n",
       "\n",
       "   Unnamed: 8  Unnamed: 9  ...  Unnamed: 16  Unnamed: 17      Sales Target  \\\n",
       "0         NaN         NaN  ...          NaN          NaN             Pizza   \n",
       "1         NaN         NaN  ...          NaN          NaN       BBQ Chicken   \n",
       "2         NaN         NaN  ...          NaN          NaN  BBQ Philly Steak   \n",
       "3         NaN         NaN  ...          NaN          NaN         Beef Suya   \n",
       "4         NaN         NaN  ...          NaN          NaN      Chicken Bali   \n",
       "\n",
       "    Unnamed: 19 Unnamed: 20 Unnamed: 21  Unnamed: 22  Branch.1  \\\n",
       "0  Sales Target     Revenue         NaN          NaN    Branch   \n",
       "1         17280         NaN         NaN          NaN     Abuja   \n",
       "2         15232         NaN         NaN          NaN    Ibadan   \n",
       "3         11772         NaN         NaN          NaN     Ikoyi   \n",
       "4        6400.8         NaN         NaN          NaN     Lekki   \n",
       "\n",
       "      Unnamed: 24 Unnamed: 25  \n",
       "0         Manager    Location  \n",
       "1  Christy  Olson     Nigeria  \n",
       "2   Dan  Peterson     Nigeria  \n",
       "3  Mable  Lindsey     Nigeria  \n",
       "4      Kyle  Carr     Nigeria  \n",
       "\n",
       "[5 rows x 26 columns]"
      ]
     },
     "execution_count": 5,
     "metadata": {},
     "output_type": "execute_result"
    }
   ],
   "source": [
    "datasource.head()"
   ]
  },
  {
   "cell_type": "code",
   "execution_count": 6,
   "id": "887a8622",
   "metadata": {},
   "outputs": [
    {
     "data": {
      "text/plain": [
       "(5000, 26)"
      ]
     },
     "execution_count": 6,
     "metadata": {},
     "output_type": "execute_result"
    }
   ],
   "source": [
    "datasource.shape"
   ]
  },
  {
   "cell_type": "code",
   "execution_count": 7,
   "id": "b77db0ef",
   "metadata": {},
   "outputs": [],
   "source": [
    "columns = datasource.columns"
   ]
  },
  {
   "cell_type": "code",
   "execution_count": 8,
   "id": "004b5230",
   "metadata": {},
   "outputs": [
    {
     "data": {
      "text/plain": [
       "Index(['S/N', 'Date', 'Branch', 'Pizza Type', 'Quantity', 'Time', 'Time Range',\n",
       "       'Price', 'Unnamed: 8', 'Unnamed: 9', 'Unnamed: 10', 'Unnamed: 11',\n",
       "       'Unnamed: 12', 'Daily Target', 'Unnamed: 14', 'Unnamed: 15',\n",
       "       'Unnamed: 16', 'Unnamed: 17', 'Sales Target', 'Unnamed: 19',\n",
       "       'Unnamed: 20', 'Unnamed: 21', 'Unnamed: 22', 'Branch.1', 'Unnamed: 24',\n",
       "       'Unnamed: 25'],\n",
       "      dtype='object')"
      ]
     },
     "execution_count": 8,
     "metadata": {},
     "output_type": "execute_result"
    }
   ],
   "source": [
    "columns"
   ]
  },
  {
   "cell_type": "code",
   "execution_count": 9,
   "id": "1bd748f3",
   "metadata": {},
   "outputs": [],
   "source": [
    "cleanedDS = datasource[['S/N', 'Date', 'Branch', 'Pizza Type', 'Quantity', 'Time', 'Time Range',\n",
    "       'Price', 'Daily Target','Unnamed: 14','Sales Target', 'Unnamed: 19',\n",
    "       'Branch.1', 'Unnamed: 24','Unnamed: 25']]"
   ]
  },
  {
   "cell_type": "code",
   "execution_count": 10,
   "id": "15216e23",
   "metadata": {},
   "outputs": [
    {
     "data": {
      "text/plain": [
       "(5000, 8)"
      ]
     },
     "execution_count": 10,
     "metadata": {},
     "output_type": "execute_result"
    }
   ],
   "source": [
    "#Sale Data is important table\n",
    "saleData = cleanedDS[['S/N', 'Date', 'Branch', \n",
    "                      'Pizza Type', 'Quantity', 'Time', \n",
    "                      'Time Range','Price']]\n",
    "saleData.shape"
   ]
  },
  {
   "cell_type": "code",
   "execution_count": 11,
   "id": "63240f1b",
   "metadata": {},
   "outputs": [
    {
     "data": {
      "text/plain": [
       "Index(['S/N', 'Date', 'Branch', 'Pizza Type', 'Quantity', 'Time', 'Time Range',\n",
       "       'Price'],\n",
       "      dtype='object')"
      ]
     },
     "execution_count": 11,
     "metadata": {},
     "output_type": "execute_result"
    }
   ],
   "source": [
    "saleData.columns"
   ]
  },
  {
   "cell_type": "code",
   "execution_count": 12,
   "id": "569a653e",
   "metadata": {},
   "outputs": [
    {
     "data": {
      "text/plain": [
       "(5000, 7)"
      ]
     },
     "execution_count": 12,
     "metadata": {},
     "output_type": "execute_result"
    }
   ],
   "source": [
    "#Intermediate table\n",
    "miscellaneousData = cleanedDS[['Daily Target','Unnamed: 14',\n",
    "                               'Sales Target', 'Unnamed: 19',\n",
    "                               'Branch.1', 'Unnamed: 24',\n",
    "                               'Unnamed: 25']]\n",
    "miscellaneousData.shape"
   ]
  },
  {
   "cell_type": "code",
   "execution_count": 22,
   "id": "007efbb3",
   "metadata": {},
   "outputs": [
    {
     "data": {
      "text/html": [
       "<div>\n",
       "<style scoped>\n",
       "    .dataframe tbody tr th:only-of-type {\n",
       "        vertical-align: middle;\n",
       "    }\n",
       "\n",
       "    .dataframe tbody tr th {\n",
       "        vertical-align: top;\n",
       "    }\n",
       "\n",
       "    .dataframe thead th {\n",
       "        text-align: right;\n",
       "    }\n",
       "</style>\n",
       "<table border=\"1\" class=\"dataframe\">\n",
       "  <thead>\n",
       "    <tr style=\"text-align: right;\">\n",
       "      <th></th>\n",
       "      <th>Daily Target</th>\n",
       "      <th>Unnamed: 14</th>\n",
       "      <th>Sales Target</th>\n",
       "      <th>Unnamed: 19</th>\n",
       "      <th>Branch.1</th>\n",
       "      <th>Unnamed: 24</th>\n",
       "      <th>Unnamed: 25</th>\n",
       "    </tr>\n",
       "  </thead>\n",
       "  <tbody>\n",
       "    <tr>\n",
       "      <th>0</th>\n",
       "      <td>Day</td>\n",
       "      <td>Target</td>\n",
       "      <td>Pizza</td>\n",
       "      <td>Sales Target</td>\n",
       "      <td>Branch</td>\n",
       "      <td>Manager</td>\n",
       "      <td>Location</td>\n",
       "    </tr>\n",
       "    <tr>\n",
       "      <th>1</th>\n",
       "      <td>2015-12-03 00:00:00</td>\n",
       "      <td>16552.8</td>\n",
       "      <td>BBQ Chicken</td>\n",
       "      <td>17280</td>\n",
       "      <td>Abuja</td>\n",
       "      <td>Christy  Olson</td>\n",
       "      <td>Nigeria</td>\n",
       "    </tr>\n",
       "    <tr>\n",
       "      <th>2</th>\n",
       "      <td>2015-12-04 00:00:00</td>\n",
       "      <td>11481.6</td>\n",
       "      <td>BBQ Philly Steak</td>\n",
       "      <td>15232</td>\n",
       "      <td>Ibadan</td>\n",
       "      <td>Dan  Peterson</td>\n",
       "      <td>Nigeria</td>\n",
       "    </tr>\n",
       "    <tr>\n",
       "      <th>3</th>\n",
       "      <td>2015-12-05 00:00:00</td>\n",
       "      <td>16772.8</td>\n",
       "      <td>Beef Suya</td>\n",
       "      <td>11772</td>\n",
       "      <td>Ikoyi</td>\n",
       "      <td>Mable  Lindsey</td>\n",
       "      <td>Nigeria</td>\n",
       "    </tr>\n",
       "    <tr>\n",
       "      <th>4</th>\n",
       "      <td>2015-12-06 00:00:00</td>\n",
       "      <td>15488</td>\n",
       "      <td>Chicken Bali</td>\n",
       "      <td>6400.8</td>\n",
       "      <td>Lekki</td>\n",
       "      <td>Kyle  Carr</td>\n",
       "      <td>Nigeria</td>\n",
       "    </tr>\n",
       "  </tbody>\n",
       "</table>\n",
       "</div>"
      ],
      "text/plain": [
       "          Daily Target Unnamed: 14      Sales Target   Unnamed: 19 Branch.1  \\\n",
       "0                  Day      Target             Pizza  Sales Target   Branch   \n",
       "1  2015-12-03 00:00:00     16552.8       BBQ Chicken         17280    Abuja   \n",
       "2  2015-12-04 00:00:00     11481.6  BBQ Philly Steak         15232   Ibadan   \n",
       "3  2015-12-05 00:00:00     16772.8         Beef Suya         11772    Ikoyi   \n",
       "4  2015-12-06 00:00:00       15488      Chicken Bali        6400.8    Lekki   \n",
       "\n",
       "      Unnamed: 24 Unnamed: 25  \n",
       "0         Manager    Location  \n",
       "1  Christy  Olson     Nigeria  \n",
       "2   Dan  Peterson     Nigeria  \n",
       "3  Mable  Lindsey     Nigeria  \n",
       "4      Kyle  Carr     Nigeria  "
      ]
     },
     "execution_count": 22,
     "metadata": {},
     "output_type": "execute_result"
    }
   ],
   "source": [
    "miscellaneousData.head()"
   ]
  },
  {
   "cell_type": "code",
   "execution_count": 13,
   "id": "1a15c70c",
   "metadata": {},
   "outputs": [],
   "source": [
    "dailyTarget = miscellaneousData[[\"Daily Target\",\"Unnamed: 14\"]]"
   ]
  },
  {
   "cell_type": "code",
   "execution_count": 14,
   "id": "1c9c5569",
   "metadata": {},
   "outputs": [],
   "source": [
    "dailyTarget.columns = [\"DailyTarget\",\"SalesTarget\"]"
   ]
  },
  {
   "cell_type": "code",
   "execution_count": 15,
   "id": "56846913",
   "metadata": {},
   "outputs": [],
   "source": [
    "dailyTarget.dropna(axis=0,inplace=True)"
   ]
  },
  {
   "cell_type": "code",
   "execution_count": 16,
   "id": "4523be20",
   "metadata": {},
   "outputs": [
    {
     "data": {
      "text/plain": [
       "Index(['DailyTarget', 'SalesTarget'], dtype='object')"
      ]
     },
     "execution_count": 16,
     "metadata": {},
     "output_type": "execute_result"
    }
   ],
   "source": [
    "dailyTarget = dailyTarget.iloc[1:,:]\n",
    "dailyTarget.columns"
   ]
  },
  {
   "cell_type": "code",
   "execution_count": 23,
   "id": "32c8a555",
   "metadata": {},
   "outputs": [],
   "source": [
    "dailyTarget.to_csv('daily_target.csv',index=False,sep=',')"
   ]
  },
  {
   "cell_type": "code",
   "execution_count": 17,
   "id": "b1e8ea27",
   "metadata": {},
   "outputs": [],
   "source": [
    "branchTarget = miscellaneousData[[\"Branch.1\",\"Unnamed: 24\",\"Unnamed: 25\"]]"
   ]
  },
  {
   "cell_type": "code",
   "execution_count": 18,
   "id": "d271c1e0",
   "metadata": {},
   "outputs": [],
   "source": [
    "branchTarget.columns = [\"Branch\",\"Manager\",\"Location\"]"
   ]
  },
  {
   "cell_type": "code",
   "execution_count": 19,
   "id": "adc0bd9f",
   "metadata": {},
   "outputs": [
    {
     "data": {
      "text/plain": [
       "Index(['Branch', 'Manager', 'Location'], dtype='object')"
      ]
     },
     "execution_count": 19,
     "metadata": {},
     "output_type": "execute_result"
    }
   ],
   "source": [
    "branchTarget.dropna(axis=0,inplace=True)\n",
    "branctTarget = branchTarget.iloc[1:,:]\n",
    "branchTarget.columns"
   ]
  },
  {
   "cell_type": "code",
   "execution_count": 24,
   "id": "8c89a74d",
   "metadata": {},
   "outputs": [],
   "source": [
    "branchTarget.to_csv('branch_target.csv',index=False,sep=',')"
   ]
  },
  {
   "cell_type": "code",
   "execution_count": 20,
   "id": "57ee8611",
   "metadata": {},
   "outputs": [
    {
     "data": {
      "text/html": [
       "<div>\n",
       "<style scoped>\n",
       "    .dataframe tbody tr th:only-of-type {\n",
       "        vertical-align: middle;\n",
       "    }\n",
       "\n",
       "    .dataframe tbody tr th {\n",
       "        vertical-align: top;\n",
       "    }\n",
       "\n",
       "    .dataframe thead th {\n",
       "        text-align: right;\n",
       "    }\n",
       "</style>\n",
       "<table border=\"1\" class=\"dataframe\">\n",
       "  <thead>\n",
       "    <tr style=\"text-align: right;\">\n",
       "      <th></th>\n",
       "      <th>PizzaType</th>\n",
       "      <th>SalesTarget</th>\n",
       "    </tr>\n",
       "  </thead>\n",
       "  <tbody>\n",
       "    <tr>\n",
       "      <th>1</th>\n",
       "      <td>BBQ Chicken</td>\n",
       "      <td>17280</td>\n",
       "    </tr>\n",
       "  </tbody>\n",
       "</table>\n",
       "</div>"
      ],
      "text/plain": [
       "     PizzaType SalesTarget\n",
       "1  BBQ Chicken       17280"
      ]
     },
     "execution_count": 20,
     "metadata": {},
     "output_type": "execute_result"
    }
   ],
   "source": [
    "productTarget = miscellaneousData[['Sales Target', 'Unnamed: 19']]\n",
    "productTarget.columns = ['PizzaType','SalesTarget']\n",
    "productTarget = productTarget.iloc[1:]\n",
    "productTarget.dropna(axis=0,inplace=True)\n",
    "productTarget.head(1)"
   ]
  },
  {
   "cell_type": "code",
   "execution_count": 25,
   "id": "cf299a28",
   "metadata": {},
   "outputs": [],
   "source": [
    "productTarget.to_csv(\"product_target.csv\",index=False,sep=',')"
   ]
  },
  {
   "cell_type": "markdown",
   "id": "9c06c1ad",
   "metadata": {},
   "source": [
    "# Moving to the Pyspark World"
   ]
  },
  {
   "cell_type": "code",
   "execution_count": 24,
   "id": "174816aa",
   "metadata": {},
   "outputs": [],
   "source": [
    "psSaleDataDF = sparkSQL.createDataFrame(saleData)"
   ]
  },
  {
   "cell_type": "code",
   "execution_count": 25,
   "id": "2f0a51ae",
   "metadata": {},
   "outputs": [
    {
     "name": "stdout",
     "output_type": "stream",
     "text": [
      "root\n",
      " |-- S/N: long (nullable = true)\n",
      " |-- Date: long (nullable = true)\n",
      " |-- Branch: string (nullable = true)\n",
      " |-- Pizza Type: string (nullable = true)\n",
      " |-- Quantity: long (nullable = true)\n",
      " |-- Time: double (nullable = true)\n",
      " |-- Time Range: string (nullable = true)\n",
      " |-- Price: long (nullable = true)\n",
      "\n"
     ]
    }
   ],
   "source": [
    "psSaleDataDF.printSchema()"
   ]
  },
  {
   "cell_type": "code",
   "execution_count": 26,
   "id": "a7ffa1d2",
   "metadata": {},
   "outputs": [
    {
     "name": "stderr",
     "output_type": "stream",
     "text": [
      "\r",
      "[Stage 0:>                                                          (0 + 1) / 1]\r"
     ]
    },
    {
     "name": "stdout",
     "output_type": "stream",
     "text": [
      "+---+-----+------+------------+--------+-----------------+-------------+-----+\n",
      "|S/N| Date|Branch|  Pizza Type|Quantity|             Time|   Time Range|Price|\n",
      "+---+-----+------+------------+--------+-----------------+-------------+-----+\n",
      "|  1|42349| Abuja|     Meatzaa|       5|0.333344907407407|Before 9:00am|    8|\n",
      "|  2|42352|Ibadan|Extravaganza|       4|0.333356481481482|Before 9:00am|    8|\n",
      "+---+-----+------+------------+--------+-----------------+-------------+-----+\n",
      "only showing top 2 rows\n",
      "\n"
     ]
    },
    {
     "name": "stderr",
     "output_type": "stream",
     "text": [
      "\r",
      "                                                                                \r"
     ]
    }
   ],
   "source": [
    "psSaleDataDF.show(2)"
   ]
  },
  {
   "cell_type": "code",
   "execution_count": 27,
   "id": "3a13e6d9",
   "metadata": {},
   "outputs": [],
   "source": [
    "def writingSparkDFtoDatabase(sparkDF,dbName,dbTableName):\n",
    "    \n",
    "    try:\n",
    "        sparkDF.write \\\n",
    "                    .format('jdbc') \\\n",
    "                    .option(\"url\", f\"jdbc:postgresql://localhost:5432/{dbName}\") \\\n",
    "                    .option('dbtable', dbTableName) \\\n",
    "                    .option('user','postgres') \\\n",
    "                    .option('password', 1234) \\\n",
    "                    .option('driver','org.postgresql.Driver') \\\n",
    "                    .save(mode='overwrite')\n",
    "        print('Write Complete')\n",
    "    except Exception as e:\n",
    "        print(f'Write errored out due to {e}')\n",
    "    "
   ]
  },
  {
   "cell_type": "code",
   "execution_count": 28,
   "id": "bc6af4aa",
   "metadata": {},
   "outputs": [
    {
     "name": "stderr",
     "output_type": "stream",
     "text": [
      "\r",
      "[Stage 1:>                                                          (0 + 4) / 4]\r"
     ]
    },
    {
     "name": "stdout",
     "output_type": "stream",
     "text": [
      "Write Complete\n"
     ]
    },
    {
     "name": "stderr",
     "output_type": "stream",
     "text": [
      "\r",
      "[Stage 1:============================================>              (3 + 1) / 4]\r",
      "\r",
      "                                                                                \r"
     ]
    }
   ],
   "source": [
    "writingSparkDFtoDatabase(psSaleDataDF,'dashboards','sales_data')\n",
    "#Data is written and verified"
   ]
  },
  {
   "cell_type": "markdown",
   "id": "e1a0c7a6",
   "metadata": {},
   "source": [
    "It is better to write out the data to database tables, so that it will be easier to pick the data from there for future. Also, if others or collaborating, then having the data on the server will help them to pull a copy and analyse it. It will save work.\n",
    "\n",
    "### Predicting the quantity of Pizza \n",
    "\n",
    "We will try and predict the quantity of pizza, given the branch, pizza name, time. The columns needs to be selected, the stringindexer encoding needs to be applied for the pizza type, and branch to convert it to numbers. Then apply the regression model on the features, with quantity as \"label/target\" column"
   ]
  },
  {
   "cell_type": "code",
   "execution_count": 29,
   "id": "bd8f3111",
   "metadata": {},
   "outputs": [],
   "source": [
    "from pyspark.ml.feature import StringIndexer, VectorAssembler\n",
    "from pyspark.ml.regression import LinearRegression"
   ]
  },
  {
   "cell_type": "code",
   "execution_count": 34,
   "id": "e1744732",
   "metadata": {},
   "outputs": [],
   "source": [
    "saleStringer = StringIndexer(inputCols=[\"Branch\",\"Pizza Type\"],\n",
    "                            outputCols=[\"Branch_idx\",\"Pizza_idx\"])\n",
    "\n",
    "vectors = VectorAssembler(inputCols=[\"Branch_idx\",\"Pizza_idx\",\"Time\"],\n",
    "                         outputCol=\"features\")\n",
    "\n",
    "linReg = LinearRegression(featuresCol='features',labelCol=\"Quantity\")\n",
    "\n",
    "#Pipeline is created with indexer, assembler and regressor\n",
    "pipeSales = Pipeline(stages=[saleStringer,vectors,linReg])"
   ]
  },
  {
   "cell_type": "code",
   "execution_count": 35,
   "id": "fe467e98",
   "metadata": {},
   "outputs": [
    {
     "name": "stdout",
     "output_type": "stream",
     "text": [
      "4000\n",
      "1000\n"
     ]
    }
   ],
   "source": [
    "#Data available is split between train and test data\n",
    "\n",
    "train, test = psSaleDataDF.randomSplit([0.8,0.2])\n",
    "print(train.count())\n",
    "print(test.count())"
   ]
  },
  {
   "cell_type": "code",
   "execution_count": 36,
   "id": "aa43e932",
   "metadata": {},
   "outputs": [
    {
     "name": "stdout",
     "output_type": "stream",
     "text": [
      "22/11/30 08:38:29 WARN Instrumentation: [df64a9a6] regParam is zero, which might cause numerical instability and overfitting.\n"
     ]
    },
    {
     "name": "stderr",
     "output_type": "stream",
     "text": [
      "\r",
      "[Stage 20:>                                                         (0 + 4) / 4]\r"
     ]
    },
    {
     "name": "stdout",
     "output_type": "stream",
     "text": [
      "22/11/30 08:38:30 WARN InstanceBuilder$NativeBLAS: Failed to load implementation from:dev.ludovic.netlib.blas.JNIBLAS\n",
      "22/11/30 08:38:30 WARN InstanceBuilder$NativeBLAS: Failed to load implementation from:dev.ludovic.netlib.blas.ForeignLinkerBLAS\n"
     ]
    },
    {
     "name": "stderr",
     "output_type": "stream",
     "text": [
      "\r",
      "                                                                                \r"
     ]
    },
    {
     "name": "stdout",
     "output_type": "stream",
     "text": [
      "22/11/30 08:38:30 WARN InstanceBuilder$NativeLAPACK: Failed to load implementation from:dev.ludovic.netlib.lapack.JNILAPACK\n"
     ]
    }
   ],
   "source": [
    "salesModel = pipeSales.fit(train)"
   ]
  },
  {
   "cell_type": "code",
   "execution_count": 37,
   "id": "8c7321c1",
   "metadata": {},
   "outputs": [
    {
     "name": "stdout",
     "output_type": "stream",
     "text": [
      "+--------+------------------+--------+----------------+\n",
      "|Quantity|        Prediction|  Branch|      Pizza Type|\n",
      "+--------+------------------+--------+----------------+\n",
      "|       5| 3.050774961385897|   Ikoyi|     BBQ Chicken|\n",
      "|       4|2.9801379485860604|   Lekki|         Meatzaa|\n",
      "|       5|3.0190306653855288|   Abuja|BBQ Philly Steak|\n",
      "|       5|3.0223243453975925|   Ikoyi|  Chicken Legend|\n",
      "|       5| 3.014884106037318|   Abuja|   Chicken Feast|\n",
      "|       5|3.0384103223998515|   Ikoyi|       Beef Suya|\n",
      "|       5| 2.983951001007215|   Lekki|   Chicken Feast|\n",
      "|       5| 3.054554663114346|   Ikoyi|      Hot Veggie|\n",
      "|       4| 3.055032347157555|   Abuja|  Pepperoni Suya|\n",
      "|       2|2.9829813942465977|  Ibadan|    Extravaganza|\n",
      "|       5| 3.002411077299979|   Abuja| Pepperoni Feast|\n",
      "|       4|3.0420899720501833|   Ikoyi|    Chicken Bali|\n",
      "|       2| 3.070348821555431|   Ikoyi|  Pepperoni Suya|\n",
      "|       5| 2.987613975311194|   Lekki|BBQ Philly Steak|\n",
      "|       3| 3.057514836199353|Surulere|    Chicken Bali|\n",
      "|       4| 3.018397002224121|   Abuja|BBQ Philly Steak|\n",
      "|       2| 2.999445003213948|   Lekki|    Chicken Suya|\n",
      "|       5|2.9669395422823723|   Lekki|    Extravaganza|\n",
      "|       3|3.0609693686739203|Surulere|    Chicken Suya|\n",
      "|       5|3.0017524011190413|   Abuja| Pepperoni Feast|\n",
      "+--------+------------------+--------+----------------+\n",
      "only showing top 20 rows\n",
      "\n"
     ]
    }
   ],
   "source": [
    "quantityPredict = salesModel.transform(test)\n",
    "quantityPredict.select(\"Quantity\",\"Prediction\",\"Branch\",\"Pizza Type\").show()"
   ]
  },
  {
   "cell_type": "code",
   "execution_count": 45,
   "id": "a60fb8e9",
   "metadata": {},
   "outputs": [
    {
     "name": "stdout",
     "output_type": "stream",
     "text": [
      "Write errored out due to Can't get JDBC type for struct<type:tinyint,size:int,indices:array<int>,values:array<double>>\n"
     ]
    }
   ],
   "source": [
    "writingSparkDFtoDatabase(quantityPredict,'dashboards','quantityprediction')"
   ]
  },
  {
   "cell_type": "code",
   "execution_count": 49,
   "id": "af0a3306",
   "metadata": {},
   "outputs": [
    {
     "name": "stdout",
     "output_type": "stream",
     "text": [
      "+--------+------------------+------+-----------------+-----------+----------+---------+\n",
      "|Quantity|        Prediction|Branch|             Time| Pizza Type|Branch_idx|Pizza_idx|\n",
      "+--------+------------------+------+-----------------+-----------+----------+---------+\n",
      "|       5| 3.050774961385897| Ikoyi| 0.33337962962963|BBQ Chicken|       3.0|      5.0|\n",
      "|       4|2.9801379485860604| Lekki|0.333425925925926|    Meatzaa|       0.0|     11.0|\n",
      "+--------+------------------+------+-----------------+-----------+----------+---------+\n",
      "only showing top 2 rows\n",
      "\n"
     ]
    }
   ],
   "source": [
    "predictionDF = quantityPredict.select(\"Quantity\",\"Prediction\",\n",
    "                                      \"Branch\",\"Time\",\"Pizza Type\",\"Branch_idx\",\n",
    "                                     \"Pizza_idx\")\n",
    "predictionDF.show(2)"
   ]
  },
  {
   "cell_type": "code",
   "execution_count": 50,
   "id": "d0a4e348",
   "metadata": {},
   "outputs": [
    {
     "name": "stdout",
     "output_type": "stream",
     "text": [
      "Write Complete\n"
     ]
    }
   ],
   "source": [
    "writingSparkDFtoDatabase(predictionDF,'dashboards','quantityprediction')"
   ]
  },
  {
   "cell_type": "code",
   "execution_count": 44,
   "id": "80a815e5",
   "metadata": {},
   "outputs": [
    {
     "name": "stdout",
     "output_type": "stream",
     "text": [
      "False\n",
      "1.2239403716241768\n",
      "-0.001368947741357207\n"
     ]
    }
   ],
   "source": [
    "from pyspark.ml.evaluation import RegressionEvaluator\n",
    "\n",
    "salEval = RegressionEvaluator(labelCol=\"Quantity\")\n",
    "salEval.evaluate(quantityPredict)\n",
    "\n",
    "print(salEval.getThroughOrigin())\n",
    "print(salEval.evaluate(quantityPredict, {salEval.metricName: \"mae\"}))\n",
    "print(salEval.evaluate(quantityPredict, {salEval.metricName: \"r2\"}))"
   ]
  }
 ],
 "metadata": {
  "kernelspec": {
   "display_name": "Python 3 (ipykernel)",
   "language": "python",
   "name": "python3"
  },
  "language_info": {
   "codemirror_mode": {
    "name": "ipython",
    "version": 3
   },
   "file_extension": ".py",
   "mimetype": "text/x-python",
   "name": "python",
   "nbconvert_exporter": "python",
   "pygments_lexer": "ipython3",
   "version": "3.10.8"
  }
 },
 "nbformat": 4,
 "nbformat_minor": 5
}
